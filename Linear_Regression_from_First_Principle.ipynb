{
  "nbformat": 4,
  "nbformat_minor": 0,
  "metadata": {
    "kernelspec": {
      "display_name": "Python 3",
      "language": "python",
      "name": "python3"
    },
    "language_info": {
      "codemirror_mode": {
        "name": "ipython",
        "version": 3
      },
      "file_extension": ".py",
      "mimetype": "text/x-python",
      "name": "python",
      "nbconvert_exporter": "python",
      "pygments_lexer": "ipython3",
      "version": "3.7.3"
    },
    "colab": {
      "name": "Linear Regression from First Principle",
      "provenance": [],
      "collapsed_sections": []
    }
  },
  "cells": [
    {
      "cell_type": "markdown",
      "metadata": {
        "id": "u80ZeOV63wWp",
        "colab_type": "text"
      },
      "source": [
        "# Linear Regression from First Principle\n",
        "This notebook contains code for a simple linear regression model\n",
        "\n",
        "Author: Ibrahim Salihu Yusuf\n",
        "Date: October 15, 2019"
      ]
    },
    {
      "cell_type": "code",
      "metadata": {
        "id": "BHaDMYSPZBkf",
        "colab_type": "code",
        "colab": {}
      },
      "source": [
        "#import necessary packages and libraries\n",
        "\n",
        "import pandas as pd\n",
        "import numpy as np\n",
        "import matplotlib.pyplot as plt"
      ],
      "execution_count": 0,
      "outputs": []
    },
    {
      "cell_type": "code",
      "metadata": {
        "id": "sdIpn4KMZBks",
        "colab_type": "code",
        "colab": {}
      },
      "source": [
        "# read in the dataset\n",
        "\n",
        "dataset = pd.read_csv('/content/train.csv')"
      ],
      "execution_count": 0,
      "outputs": []
    },
    {
      "cell_type": "code",
      "metadata": {
        "id": "AkewYS8VZBl6",
        "colab_type": "code",
        "outputId": "df65089c-fe72-49df-eb9e-a543165a9894",
        "colab": {
          "base_uri": "https://localhost:8080/",
          "height": 206
        }
      },
      "source": [
        "#Get the input features from the Dataset\n",
        "\n",
        "input_features = dataset[['rm']]\n",
        "input_features.head()"
      ],
      "execution_count": 29,
      "outputs": [
        {
          "output_type": "execute_result",
          "data": {
            "text/html": [
              "<div>\n",
              "<style scoped>\n",
              "    .dataframe tbody tr th:only-of-type {\n",
              "        vertical-align: middle;\n",
              "    }\n",
              "\n",
              "    .dataframe tbody tr th {\n",
              "        vertical-align: top;\n",
              "    }\n",
              "\n",
              "    .dataframe thead th {\n",
              "        text-align: right;\n",
              "    }\n",
              "</style>\n",
              "<table border=\"1\" class=\"dataframe\">\n",
              "  <thead>\n",
              "    <tr style=\"text-align: right;\">\n",
              "      <th></th>\n",
              "      <th>rm</th>\n",
              "    </tr>\n",
              "  </thead>\n",
              "  <tbody>\n",
              "    <tr>\n",
              "      <th>0</th>\n",
              "      <td>6.575</td>\n",
              "    </tr>\n",
              "    <tr>\n",
              "      <th>1</th>\n",
              "      <td>6.421</td>\n",
              "    </tr>\n",
              "    <tr>\n",
              "      <th>2</th>\n",
              "      <td>6.998</td>\n",
              "    </tr>\n",
              "    <tr>\n",
              "      <th>3</th>\n",
              "      <td>7.147</td>\n",
              "    </tr>\n",
              "    <tr>\n",
              "      <th>4</th>\n",
              "      <td>6.012</td>\n",
              "    </tr>\n",
              "  </tbody>\n",
              "</table>\n",
              "</div>"
            ],
            "text/plain": [
              "      rm\n",
              "0  6.575\n",
              "1  6.421\n",
              "2  6.998\n",
              "3  7.147\n",
              "4  6.012"
            ]
          },
          "metadata": {
            "tags": []
          },
          "execution_count": 29
        }
      ]
    },
    {
      "cell_type": "code",
      "metadata": {
        "id": "dEU31kfGZBmB",
        "colab_type": "code",
        "outputId": "c007075a-117d-4b57-eaeb-549fedb81377",
        "colab": {
          "base_uri": "https://localhost:8080/",
          "height": 206
        }
      },
      "source": [
        "#Get the target from the dataset\n",
        "\n",
        "target = dataset[['medv']]\n",
        "target.head()"
      ],
      "execution_count": 30,
      "outputs": [
        {
          "output_type": "execute_result",
          "data": {
            "text/html": [
              "<div>\n",
              "<style scoped>\n",
              "    .dataframe tbody tr th:only-of-type {\n",
              "        vertical-align: middle;\n",
              "    }\n",
              "\n",
              "    .dataframe tbody tr th {\n",
              "        vertical-align: top;\n",
              "    }\n",
              "\n",
              "    .dataframe thead th {\n",
              "        text-align: right;\n",
              "    }\n",
              "</style>\n",
              "<table border=\"1\" class=\"dataframe\">\n",
              "  <thead>\n",
              "    <tr style=\"text-align: right;\">\n",
              "      <th></th>\n",
              "      <th>medv</th>\n",
              "    </tr>\n",
              "  </thead>\n",
              "  <tbody>\n",
              "    <tr>\n",
              "      <th>0</th>\n",
              "      <td>24.0</td>\n",
              "    </tr>\n",
              "    <tr>\n",
              "      <th>1</th>\n",
              "      <td>21.6</td>\n",
              "    </tr>\n",
              "    <tr>\n",
              "      <th>2</th>\n",
              "      <td>33.4</td>\n",
              "    </tr>\n",
              "    <tr>\n",
              "      <th>3</th>\n",
              "      <td>36.2</td>\n",
              "    </tr>\n",
              "    <tr>\n",
              "      <th>4</th>\n",
              "      <td>22.9</td>\n",
              "    </tr>\n",
              "  </tbody>\n",
              "</table>\n",
              "</div>"
            ],
            "text/plain": [
              "   medv\n",
              "0  24.0\n",
              "1  21.6\n",
              "2  33.4\n",
              "3  36.2\n",
              "4  22.9"
            ]
          },
          "metadata": {
            "tags": []
          },
          "execution_count": 30
        }
      ]
    },
    {
      "cell_type": "code",
      "metadata": {
        "id": "fOUxFCRXo8CR",
        "colab_type": "code",
        "colab": {
          "base_uri": "https://localhost:8080/",
          "height": 330
        },
        "outputId": "51084c35-daa8-4eb1-afb5-17e81b03d3a2"
      },
      "source": [
        "#Add the coefficient of the bias, which is 1\n",
        "\n",
        "input_features['bias'] = 1\n",
        "input_features.head()"
      ],
      "execution_count": 31,
      "outputs": [
        {
          "output_type": "stream",
          "text": [
            "/usr/local/lib/python3.6/dist-packages/ipykernel_launcher.py:1: SettingWithCopyWarning: \n",
            "A value is trying to be set on a copy of a slice from a DataFrame.\n",
            "Try using .loc[row_indexer,col_indexer] = value instead\n",
            "\n",
            "See the caveats in the documentation: http://pandas.pydata.org/pandas-docs/stable/indexing.html#indexing-view-versus-copy\n",
            "  \"\"\"Entry point for launching an IPython kernel.\n"
          ],
          "name": "stderr"
        },
        {
          "output_type": "execute_result",
          "data": {
            "text/html": [
              "<div>\n",
              "<style scoped>\n",
              "    .dataframe tbody tr th:only-of-type {\n",
              "        vertical-align: middle;\n",
              "    }\n",
              "\n",
              "    .dataframe tbody tr th {\n",
              "        vertical-align: top;\n",
              "    }\n",
              "\n",
              "    .dataframe thead th {\n",
              "        text-align: right;\n",
              "    }\n",
              "</style>\n",
              "<table border=\"1\" class=\"dataframe\">\n",
              "  <thead>\n",
              "    <tr style=\"text-align: right;\">\n",
              "      <th></th>\n",
              "      <th>rm</th>\n",
              "      <th>bias</th>\n",
              "    </tr>\n",
              "  </thead>\n",
              "  <tbody>\n",
              "    <tr>\n",
              "      <th>0</th>\n",
              "      <td>6.575</td>\n",
              "      <td>1</td>\n",
              "    </tr>\n",
              "    <tr>\n",
              "      <th>1</th>\n",
              "      <td>6.421</td>\n",
              "      <td>1</td>\n",
              "    </tr>\n",
              "    <tr>\n",
              "      <th>2</th>\n",
              "      <td>6.998</td>\n",
              "      <td>1</td>\n",
              "    </tr>\n",
              "    <tr>\n",
              "      <th>3</th>\n",
              "      <td>7.147</td>\n",
              "      <td>1</td>\n",
              "    </tr>\n",
              "    <tr>\n",
              "      <th>4</th>\n",
              "      <td>6.012</td>\n",
              "      <td>1</td>\n",
              "    </tr>\n",
              "  </tbody>\n",
              "</table>\n",
              "</div>"
            ],
            "text/plain": [
              "      rm  bias\n",
              "0  6.575     1\n",
              "1  6.421     1\n",
              "2  6.998     1\n",
              "3  7.147     1\n",
              "4  6.012     1"
            ]
          },
          "metadata": {
            "tags": []
          },
          "execution_count": 31
        }
      ]
    },
    {
      "cell_type": "code",
      "metadata": {
        "id": "v_jJVTZ5pF0l",
        "colab_type": "code",
        "outputId": "5302102d-5d23-483e-bdeb-64c922105b43",
        "colab": {
          "base_uri": "https://localhost:8080/",
          "height": 34
        }
      },
      "source": [
        "#Initialize weights\n",
        "\n",
        "weights = np.zeros((input_features.shape[1], 1))\n",
        "\n",
        "print(weights.shape)"
      ],
      "execution_count": 32,
      "outputs": [
        {
          "output_type": "stream",
          "text": [
            "(2, 1)\n"
          ],
          "name": "stdout"
        }
      ]
    },
    {
      "cell_type": "code",
      "metadata": {
        "id": "EEq-MGhPnYpm",
        "colab_type": "code",
        "colab": {}
      },
      "source": [
        "#define hyper-parameters\n",
        "learning_rate = 1e-3\n",
        "steps = 100\n",
        "\n",
        "#list for tracking cost (losses)\n",
        "losses = []"
      ],
      "execution_count": 0,
      "outputs": []
    },
    {
      "cell_type": "code",
      "metadata": {
        "id": "vOopQgRNczj9",
        "colab_type": "code",
        "outputId": "5237cf3b-23b5-466f-f0bc-0143e48d3533",
        "colab": {
          "base_uri": "https://localhost:8080/",
          "height": 1000
        }
      },
      "source": [
        "x_train = input_features.values\n",
        "y_train = target.values\n",
        "\n",
        "for i in range(steps):\n",
        "  y_pred = np.dot(x_train, weights)\n",
        "  \n",
        "  #Evaluate the objective function: MSE\n",
        "  error = y_train - y_pred\n",
        "  error_squared = np.power(error, 2)\n",
        "  MSE = error_squared.sum()/(2 * y_train.shape[0])\n",
        "  losses.append(MSE)\n",
        "\n",
        "  #update weights\n",
        "  gradients = np.dot(x_train.transpose(), error)\n",
        "  update_parameter = (learning_rate/y_train.shape[0]) * gradients \n",
        "  weights = weights + update_parameter\n",
        "  \n",
        "  print('{}/{} Loss: {}'.format(i+1, steps, MSE))\n"
      ],
      "execution_count": 34,
      "outputs": [
        {
          "output_type": "stream",
          "text": [
            "1/100 Loss: 301.1583183183183\n",
            "2/100 Loss: 279.4527492917372\n",
            "3/100 Loss: 259.4797064921082\n",
            "4/100 Loss: 241.10089954086746\n",
            "5/100 Loss: 224.18907640828073\n",
            "6/100 Loss: 208.6271423315774\n",
            "7/100 Loss: 194.30734906110686\n",
            "8/100 Loss: 181.1305488209306\n",
            "9/100 Loss: 169.00550781833792\n",
            "10/100 Loss: 157.84827454908603\n",
            "11/100 Loss: 147.58159852456492\n",
            "12/100 Loss: 138.1343953962059\n",
            "13/100 Loss: 129.44125477370102\n",
            "14/100 Loss: 121.4419873292113\n",
            "15/100 Loss: 114.08120805175213\n",
            "16/100 Loss: 107.30795276624625\n",
            "17/100 Loss: 101.07532526205603\n",
            "18/100 Loss: 95.34017258774381\n",
            "19/100 Loss: 90.06278626382979\n",
            "20/100 Loss: 85.20662734477119\n",
            "21/100 Loss: 80.73807342651536\n",
            "22/100 Loss: 76.62618584793012\n",
            "23/100 Loss: 72.84249547423403\n",
            "24/100 Loss: 69.36080557920991\n",
            "25/100 Loss: 66.15701046137553\n",
            "26/100 Loss: 63.20892853822587\n",
            "27/100 Loss: 60.49614876290585\n",
            "28/100 Loss: 57.99988929991624\n",
            "29/100 Loss: 55.70286748133604\n",
            "30/100 Loss: 53.589180143148965\n",
            "31/100 Loss: 51.644193513134006\n",
            "32/100 Loss: 49.85444188791306\n",
            "33/100 Loss: 48.207534397604576\n",
            "34/100 Loss: 46.69206921252973\n",
            "35/100 Loss: 45.29755459794625\n",
            "36/100 Loss: 44.014336270199294\n",
            "37/100 Loss: 42.83353055131026\n",
            "38/100 Loss: 41.74696285917139\n",
            "39/100 Loss: 40.747111107457904\n",
            "40/100 Loss: 39.82705362336369\n",
            "41/100 Loss: 38.98042122254718\n",
            "42/100 Loss: 38.20135310945896\n",
            "43/100 Loss: 37.48445629770863\n",
            "44/100 Loss: 36.824768269501156\n",
            "45/100 Loss: 36.21772261559988\n",
            "46/100 Loss: 35.65911741791051\n",
            "47/100 Loss: 35.14508615576955\n",
            "48/100 Loss: 34.6720709344952\n",
            "49/100 Loss: 34.236797850837355\n",
            "50/100 Loss: 33.83625432475928\n",
            "51/100 Loss: 33.46766824059836\n",
            "52/100 Loss: 33.12848875318089\n",
            "53/100 Loss: 32.81636862599439\n",
            "54/100 Loss: 32.52914797912834\n",
            "55/100 Loss: 32.26483933445552\n",
            "56/100 Loss: 32.02161385450826\n",
            "57/100 Loss: 31.79778867976851\n",
            "58/100 Loss: 31.591815276696543\n",
            "59/100 Loss: 31.40226871582087\n",
            "60/100 Loss: 31.227837805651795\n",
            "61/100 Loss: 31.067316014106844\n",
            "62/100 Loss: 30.919593114588732\n",
            "63/100 Loss: 30.78364749887392\n",
            "64/100 Loss: 30.658539103587184\n",
            "65/100 Loss: 30.54340290128539\n",
            "66/100 Loss: 30.437442911083544\n",
            "67/100 Loss: 30.339926687353152\n",
            "68/100 Loss: 30.250180248333\n",
            "69/100 Loss: 30.167583409538768\n",
            "70/100 Loss: 30.091565489660166\n",
            "71/100 Loss: 30.021601359213697\n",
            "72/100 Loss: 29.957207804592304\n",
            "73/100 Loss: 29.89794018233679\n",
            "74/100 Loss: 29.84338934046365\n",
            "75/100 Loss: 29.79317878553269\n",
            "76/100 Loss: 29.746962075839534\n",
            "77/100 Loss: 29.704420422683725\n",
            "78/100 Loss: 29.665260483103808\n",
            "79/100 Loss: 29.629212328796434\n",
            "80/100 Loss: 29.59602757715652\n",
            "81/100 Loss: 29.565477671497945\n",
            "82/100 Loss: 29.537352298547123\n",
            "83/100 Loss: 29.511457932252405\n",
            "84/100 Loss: 29.487616493826728\n",
            "85/100 Loss: 29.465664118745707\n",
            "86/100 Loss: 29.445450022164096\n",
            "87/100 Loss: 29.426835454894785\n",
            "88/100 Loss: 29.40969274272163\n",
            "89/100 Loss: 29.393904402394387\n",
            "90/100 Loss: 29.37936232818502\n",
            "91/100 Loss: 29.365967043373146\n",
            "92/100 Loss: 29.353627011477986\n",
            "93/100 Loss: 29.3422580024678\n",
            "94/100 Loss: 29.331782509558565\n",
            "95/100 Loss: 29.32212921256378\n",
            "96/100 Loss: 29.313232484079844\n",
            "97/100 Loss: 29.305031935087612\n",
            "98/100 Loss: 29.29747199682416\n",
            "99/100 Loss: 29.290501536029563\n",
            "100/100 Loss: 29.284073500904682\n"
          ],
          "name": "stdout"
        }
      ]
    },
    {
      "cell_type": "code",
      "metadata": {
        "id": "Snk7_xPsGCr9",
        "colab_type": "code",
        "outputId": "b9779ffb-a03f-449f-a2d2-442d79915ab4",
        "colab": {
          "base_uri": "https://localhost:8080/",
          "height": 286
        }
      },
      "source": [
        " plt.plot(losses)"
      ],
      "execution_count": 35,
      "outputs": [
        {
          "output_type": "execute_result",
          "data": {
            "text/plain": [
              "[<matplotlib.lines.Line2D at 0x7ff7af141208>]"
            ]
          },
          "metadata": {
            "tags": []
          },
          "execution_count": 35
        },
        {
          "output_type": "display_data",
          "data": {
            "image/png": "[encoded data removed]",
            "text/plain": [
              "<Figure size 432x288 with 1 Axes>"
            ]
          },
          "metadata": {
            "tags": []
          }
        }
      ]
    }
  ]
}